{
 "cells": [
  {
   "cell_type": "markdown",
   "id": "c9cb18a1",
   "metadata": {},
   "source": [
    "# Tutoriál logistická regrese\n",
    "## Jan Urban"
   ]
  },
  {
   "cell_type": "markdown",
   "id": "9331456a",
   "metadata": {},
   "source": [
    "Nejdříve nainstalujeme a ktivujeme v paměti potřebné knihovny."
   ]
  },
  {
   "cell_type": "code",
   "execution_count": 3,
   "id": "3ec8fb48",
   "metadata": {},
   "outputs": [
    {
     "name": "stderr",
     "output_type": "stream",
     "text": [
      "Loading required package: pacman\n",
      "\n"
     ]
    }
   ],
   "source": [
    "if (!require(\"pacman\")) install.packages(\"pacman\")\n",
    "pacman::p_load(caret, e1071, rcompanion) # takto si mohu natahnout nove knihovny"
   ]
  },
  {
   "cell_type": "markdown",
   "id": "74beb2d2",
   "metadata": {},
   "source": [
    "Nyní natáhneme do paměti data Titanic. Buď z online repozitáře, anebo z lokálního úložiště v počítači."
   ]
  },
  {
   "cell_type": "code",
   "execution_count": 4,
   "id": "160fd70f",
   "metadata": {},
   "outputs": [],
   "source": [
    "data <- read.csv(\"https://osf.io/5fx2k/download\") # z online úložiště na OSF.io\n",
    "#data <- read.csv(\"~/Google Drive/CUK/uceni/CVUT/cviceni r/Titanic.csv\") # z lokálního úložiště (odkomentovat)"
   ]
  },
  {
   "cell_type": "markdown",
   "id": "d388fa85",
   "metadata": {},
   "source": [
    "Z dat vyhodíme pozorování s chybějícími hodnotami. Následně si prohlédneme desckriptivní statistiky pro data."
   ]
  },
  {
   "cell_type": "code",
   "execution_count": 5,
   "id": "c4be4bec",
   "metadata": {},
   "outputs": [
    {
     "data": {
      "text/plain": [
       "     Name              PClass               Age            Sex           \n",
       " Length:756         Length:756         Min.   : 0.17   Length:756        \n",
       " Class :character   Class :character   1st Qu.:21.00   Class :character  \n",
       " Mode  :character   Mode  :character   Median :28.00   Mode  :character  \n",
       "                                       Mean   :30.40                     \n",
       "                                       3rd Qu.:39.00                     \n",
       "                                       Max.   :71.00                     \n",
       "    Survived    \n",
       " Min.   :0.000  \n",
       " 1st Qu.:0.000  \n",
       " Median :0.000  \n",
       " Mean   :0.414  \n",
       " 3rd Qu.:1.000  \n",
       " Max.   :1.000  "
      ]
     },
     "metadata": {},
     "output_type": "display_data"
    }
   ],
   "source": [
    "data <- na.omit(data)\n",
    "summary(data)"
   ]
  },
  {
   "cell_type": "markdown",
   "id": "0575631d",
   "metadata": {},
   "source": [
    "Upravíme názvy proměnných (jen malá písmena)."
   ]
  },
  {
   "cell_type": "code",
   "execution_count": 6,
   "id": "69ba7eaa",
   "metadata": {},
   "outputs": [
    {
     "data": {
      "text/html": [
       "<style>\n",
       ".list-inline {list-style: none; margin:0; padding: 0}\n",
       ".list-inline>li {display: inline-block}\n",
       ".list-inline>li:not(:last-child)::after {content: \"\\00b7\"; padding: 0 .5ex}\n",
       "</style>\n",
       "<ol class=list-inline><li>'Name'</li><li>'PClass'</li><li>'Age'</li><li>'Sex'</li><li>'Survived'</li></ol>\n"
      ],
      "text/latex": [
       "\\begin{enumerate*}\n",
       "\\item 'Name'\n",
       "\\item 'PClass'\n",
       "\\item 'Age'\n",
       "\\item 'Sex'\n",
       "\\item 'Survived'\n",
       "\\end{enumerate*}\n"
      ],
      "text/markdown": [
       "1. 'Name'\n",
       "2. 'PClass'\n",
       "3. 'Age'\n",
       "4. 'Sex'\n",
       "5. 'Survived'\n",
       "\n",
       "\n"
      ],
      "text/plain": [
       "[1] \"Name\"     \"PClass\"   \"Age\"      \"Sex\"      \"Survived\""
      ]
     },
     "metadata": {},
     "output_type": "display_data"
    }
   ],
   "source": [
    "colnames(data)\n",
    "colnames(data) <- tolower(colnames(data))"
   ]
  },
  {
   "cell_type": "markdown",
   "id": "8f5a1037",
   "metadata": {},
   "source": [
    "Nyní se podíváme, jaké hodnoty mají proměnné, které nás zajímají."
   ]
  },
  {
   "cell_type": "code",
   "execution_count": 7,
   "id": "a964856b",
   "metadata": {},
   "outputs": [
    {
     "data": {
      "text/plain": [
       "\n",
       "0.17 0.33  0.8 0.83 0.92    1  1.5    2    3    4    5    6    7    8    9   10 \n",
       "   1    1    1    2    1    5    2    7    6    7    3    5    1    4    7    2 \n",
       "  11   12   13   14   15   16   17   18   19   20   21   22   23   24   25   26 \n",
       "   3    2    4    4    5   10   13   30   23   23   31   35   23   27   23   27 \n",
       "  27   28   29   30   31   32   33   34   35   36   37   38   39   40   41   42 \n",
       "  24   24   15   31   14   22   14   12   14   29    7   11   14   13    8   11 \n",
       "  43   44   45   46   47   48   49   50   51   52   53   54   55   56   57   58 \n",
       "   7    8   20    8    9   12   10   11    4    6    3    7    6    4    4    6 \n",
       "  59   60   61   62   63   64   65   67   69   70   71 \n",
       "   3    5    3    2    3    6    2    1    1    1    3 "
      ]
     },
     "metadata": {},
     "output_type": "display_data"
    },
    {
     "data": {
      "text/plain": [
       "\n",
       "1st 2nd 3rd \n",
       "226 212 318 "
      ]
     },
     "metadata": {},
     "output_type": "display_data"
    }
   ],
   "source": [
    "table(data$age)\n",
    "table(data$pclass)"
   ]
  },
  {
   "cell_type": "markdown",
   "id": "cfbb9370",
   "metadata": {},
   "source": [
    "Z proměnné bychom chtěli udělat faktor (tj. kategorie, ne hodnoty)."
   ]
  },
  {
   "cell_type": "code",
   "execution_count": 8,
   "id": "83622fb3",
   "metadata": {},
   "outputs": [],
   "source": [
    "data$pclass <- as.factor (data$pclass)"
   ]
  },
  {
   "cell_type": "markdown",
   "id": "d44fd474",
   "metadata": {},
   "source": [
    "Odhadneme logistický model a podíváme se na odhad."
   ]
  },
  {
   "cell_type": "code",
   "execution_count": 9,
   "id": "a61bbd5f",
   "metadata": {},
   "outputs": [
    {
     "data": {
      "text/plain": [
       "\n",
       "Call:  glm(formula = survived ~ age + pclass, family = \"binomial\", data = data)\n",
       "\n",
       "Coefficients:\n",
       "(Intercept)          age    pclass2nd    pclass3rd  \n",
       "     2.0337      -0.0385      -1.1458      -2.2315  \n",
       "\n",
       "Degrees of Freedom: 755 Total (i.e. Null);  752 Residual\n",
       "Null Deviance:\t    1026 \n",
       "Residual Deviance: 909.9 \tAIC: 917.9"
      ]
     },
     "metadata": {},
     "output_type": "display_data"
    },
    {
     "data": {
      "text/plain": [
       "\n",
       "Call:\n",
       "glm(formula = survived ~ age + pclass, family = \"binomial\", data = data)\n",
       "\n",
       "Deviance Residuals: \n",
       "    Min       1Q   Median       3Q      Max  \n",
       "-2.0440  -0.9426  -0.6551   1.0959   2.3210  \n",
       "\n",
       "Coefficients:\n",
       "             Estimate Std. Error z value Pr(>|z|)    \n",
       "(Intercept)  2.033706   0.306880   6.627 3.43e-11 ***\n",
       "age         -0.038504   0.006546  -5.882 4.05e-09 ***\n",
       "pclass2nd   -1.145820   0.220260  -5.202 1.97e-07 ***\n",
       "pclass3rd   -2.231504   0.228993  -9.745  < 2e-16 ***\n",
       "---\n",
       "Signif. codes:  0 ‘***’ 0.001 ‘**’ 0.01 ‘*’ 0.05 ‘.’ 0.1 ‘ ’ 1\n",
       "\n",
       "(Dispersion parameter for binomial family taken to be 1)\n",
       "\n",
       "    Null deviance: 1025.57  on 755  degrees of freedom\n",
       "Residual deviance:  909.92  on 752  degrees of freedom\n",
       "AIC: 917.92\n",
       "\n",
       "Number of Fisher Scoring iterations: 4\n"
      ]
     },
     "metadata": {},
     "output_type": "display_data"
    }
   ],
   "source": [
    "model1 <- glm(survived ~ age + pclass, data = data, family = \"binomial\")\n",
    "model1\n",
    "\n",
    "summary(model1)"
   ]
  },
  {
   "cell_type": "markdown",
   "id": "1af84834",
   "metadata": {},
   "source": [
    "Uložíme odhadnutý model."
   ]
  },
  {
   "cell_type": "code",
   "execution_count": 10,
   "id": "704c9406",
   "metadata": {},
   "outputs": [],
   "source": [
    "summary.model1 <- summary(model1)"
   ]
  },
  {
   "cell_type": "markdown",
   "id": "09701a64",
   "metadata": {},
   "source": [
    "Podíváme se na atrubuty odhadnutého modelu."
   ]
  },
  {
   "cell_type": "code",
   "execution_count": 11,
   "id": "12f6b078",
   "metadata": {},
   "outputs": [
    {
     "data": {
      "text/html": [
       "<dl>\n",
       "\t<dt>$names</dt>\n",
       "\t\t<dd><style>\n",
       ".list-inline {list-style: none; margin:0; padding: 0}\n",
       ".list-inline>li {display: inline-block}\n",
       ".list-inline>li:not(:last-child)::after {content: \"\\00b7\"; padding: 0 .5ex}\n",
       "</style>\n",
       "<ol class=list-inline><li>'call'</li><li>'terms'</li><li>'family'</li><li>'deviance'</li><li>'aic'</li><li>'contrasts'</li><li>'df.residual'</li><li>'null.deviance'</li><li>'df.null'</li><li>'iter'</li><li>'deviance.resid'</li><li>'coefficients'</li><li>'aliased'</li><li>'dispersion'</li><li>'df'</li><li>'cov.unscaled'</li><li>'cov.scaled'</li></ol>\n",
       "</dd>\n",
       "\t<dt>$class</dt>\n",
       "\t\t<dd>'summary.glm'</dd>\n",
       "</dl>\n"
      ],
      "text/latex": [
       "\\begin{description}\n",
       "\\item[\\$names] \\begin{enumerate*}\n",
       "\\item 'call'\n",
       "\\item 'terms'\n",
       "\\item 'family'\n",
       "\\item 'deviance'\n",
       "\\item 'aic'\n",
       "\\item 'contrasts'\n",
       "\\item 'df.residual'\n",
       "\\item 'null.deviance'\n",
       "\\item 'df.null'\n",
       "\\item 'iter'\n",
       "\\item 'deviance.resid'\n",
       "\\item 'coefficients'\n",
       "\\item 'aliased'\n",
       "\\item 'dispersion'\n",
       "\\item 'df'\n",
       "\\item 'cov.unscaled'\n",
       "\\item 'cov.scaled'\n",
       "\\end{enumerate*}\n",
       "\n",
       "\\item[\\$class] 'summary.glm'\n",
       "\\end{description}\n"
      ],
      "text/markdown": [
       "$names\n",
       ":   1. 'call'\n",
       "2. 'terms'\n",
       "3. 'family'\n",
       "4. 'deviance'\n",
       "5. 'aic'\n",
       "6. 'contrasts'\n",
       "7. 'df.residual'\n",
       "8. 'null.deviance'\n",
       "9. 'df.null'\n",
       "10. 'iter'\n",
       "11. 'deviance.resid'\n",
       "12. 'coefficients'\n",
       "13. 'aliased'\n",
       "14. 'dispersion'\n",
       "15. 'df'\n",
       "16. 'cov.unscaled'\n",
       "17. 'cov.scaled'\n",
       "\n",
       "\n",
       "\n",
       "$class\n",
       ":   'summary.glm'\n",
       "\n",
       "\n"
      ],
      "text/plain": [
       "$names\n",
       " [1] \"call\"           \"terms\"          \"family\"         \"deviance\"      \n",
       " [5] \"aic\"            \"contrasts\"      \"df.residual\"    \"null.deviance\" \n",
       " [9] \"df.null\"        \"iter\"           \"deviance.resid\" \"coefficients\"  \n",
       "[13] \"aliased\"        \"dispersion\"     \"df\"             \"cov.unscaled\"  \n",
       "[17] \"cov.scaled\"    \n",
       "\n",
       "$class\n",
       "[1] \"summary.glm\"\n"
      ]
     },
     "metadata": {},
     "output_type": "display_data"
    }
   ],
   "source": [
    "attributes(summary.model1)"
   ]
  },
  {
   "cell_type": "markdown",
   "id": "13a4adef",
   "metadata": {},
   "source": [
    "Můžeme si z výstupu odhadu vybrat pouze jeho část, v tomto případě odhadnuté beta koeficienty (regresní váhy)."
   ]
  },
  {
   "cell_type": "code",
   "execution_count": 12,
   "id": "5d300e09",
   "metadata": {},
   "outputs": [
    {
     "data": {
      "text/html": [
       "<style>\n",
       ".dl-inline {width: auto; margin:0; padding: 0}\n",
       ".dl-inline>dt, .dl-inline>dd {float: none; width: auto; display: inline-block}\n",
       ".dl-inline>dt::after {content: \":\\0020\"; padding-right: .5ex}\n",
       ".dl-inline>dt:not(:first-of-type) {padding-left: .5ex}\n",
       "</style><dl class=dl-inline><dt>(Intercept)</dt><dd>2.03370550244437</dd><dt>age</dt><dd>-0.0385040944204684</dd><dt>pclass2nd</dt><dd>-1.14582018402756</dd><dt>pclass3rd</dt><dd>-2.23150423113025</dd></dl>\n"
      ],
      "text/latex": [
       "\\begin{description*}\n",
       "\\item[(Intercept)] 2.03370550244437\n",
       "\\item[age] -0.0385040944204684\n",
       "\\item[pclass2nd] -1.14582018402756\n",
       "\\item[pclass3rd] -2.23150423113025\n",
       "\\end{description*}\n"
      ],
      "text/markdown": [
       "(Intercept)\n",
       ":   2.03370550244437age\n",
       ":   -0.0385040944204684pclass2nd\n",
       ":   -1.14582018402756pclass3rd\n",
       ":   -2.23150423113025\n",
       "\n"
      ],
      "text/plain": [
       "(Intercept)         age   pclass2nd   pclass3rd \n",
       " 2.03370550 -0.03850409 -1.14582018 -2.23150423 "
      ]
     },
     "metadata": {},
     "output_type": "display_data"
    }
   ],
   "source": [
    "summary.model1$coefficients [,1]"
   ]
  },
  {
   "cell_type": "markdown",
   "id": "ae679910",
   "metadata": {},
   "source": [
    "Exponováním regresních vah získáme podíly šancí (OR, odds-ratio), které můžeme intuitivně interpretovat jako informaci o velikosti efektu."
   ]
  },
  {
   "cell_type": "code",
   "execution_count": 13,
   "id": "e3b82a3c",
   "metadata": {},
   "outputs": [
    {
     "data": {
      "text/html": [
       "<style>\n",
       ".dl-inline {width: auto; margin:0; padding: 0}\n",
       ".dl-inline>dt, .dl-inline>dd {float: none; width: auto; display: inline-block}\n",
       ".dl-inline>dt::after {content: \":\\0020\"; padding-right: .5ex}\n",
       ".dl-inline>dt:not(:first-of-type) {padding-left: .5ex}\n",
       "</style><dl class=dl-inline><dt>(Intercept)</dt><dd>7.64235271257246</dd><dt>age</dt><dd>0.962227764966696</dd><dt>pclass2nd</dt><dd>0.317963022621509</dd><dt>pclass3rd</dt><dd>0.107366804115719</dd></dl>\n"
      ],
      "text/latex": [
       "\\begin{description*}\n",
       "\\item[(Intercept)] 7.64235271257246\n",
       "\\item[age] 0.962227764966696\n",
       "\\item[pclass2nd] 0.317963022621509\n",
       "\\item[pclass3rd] 0.107366804115719\n",
       "\\end{description*}\n"
      ],
      "text/markdown": [
       "(Intercept)\n",
       ":   7.64235271257246age\n",
       ":   0.962227764966696pclass2nd\n",
       ":   0.317963022621509pclass3rd\n",
       ":   0.107366804115719\n",
       "\n"
      ],
      "text/plain": [
       "(Intercept)         age   pclass2nd   pclass3rd \n",
       "  7.6423527   0.9622278   0.3179630   0.1073668 "
      ]
     },
     "metadata": {},
     "output_type": "display_data"
    }
   ],
   "source": [
    "betas <- summary.model1$coefficients [,1]\n",
    "exp (betas)"
   ]
  },
  {
   "cell_type": "markdown",
   "id": "2d1dea7f",
   "metadata": {},
   "source": [
    "## Domácí úkol (individuálně) \n",
    "Přidejte do modelu pohlaví. Interpretujte výsledky."
   ]
  },
  {
   "cell_type": "code",
   "execution_count": 14,
   "id": "41b1d753",
   "metadata": {
    "scrolled": true
   },
   "outputs": [
    {
     "data": {
      "text/plain": [
       "\n",
       "Call:\n",
       "glm(formula = survived ~ age + pclass + sex, family = \"binomial\", \n",
       "    data = data)\n",
       "\n",
       "Deviance Residuals: \n",
       "    Min       1Q   Median       3Q      Max  \n",
       "-2.7226  -0.7065  -0.3917   0.6495   2.5289  \n",
       "\n",
       "Coefficients:\n",
       "             Estimate Std. Error z value Pr(>|z|)    \n",
       "(Intercept)  3.759662   0.397567   9.457  < 2e-16 ***\n",
       "age         -0.039177   0.007616  -5.144 2.69e-07 ***\n",
       "pclass2nd   -1.291962   0.260076  -4.968 6.78e-07 ***\n",
       "pclass3rd   -2.521419   0.276657  -9.114  < 2e-16 ***\n",
       "sexmale     -2.631357   0.201505 -13.058  < 2e-16 ***\n",
       "---\n",
       "Signif. codes:  0 ‘***’ 0.001 ‘**’ 0.01 ‘*’ 0.05 ‘.’ 0.1 ‘ ’ 1\n",
       "\n",
       "(Dispersion parameter for binomial family taken to be 1)\n",
       "\n",
       "    Null deviance: 1025.57  on 755  degrees of freedom\n",
       "Residual deviance:  695.14  on 751  degrees of freedom\n",
       "AIC: 705.14\n",
       "\n",
       "Number of Fisher Scoring iterations: 5\n"
      ]
     },
     "metadata": {},
     "output_type": "display_data"
    }
   ],
   "source": [
    "model2 <- glm(survived ~ age + pclass + sex, data = data, family = \"binomial\")\n",
    "summary(model2)"
   ]
  },
  {
   "cell_type": "markdown",
   "id": "61cda164",
   "metadata": {},
   "source": [
    "Exponujeme logistický regresní koeficient, abychom dostali (hrubou aproximaxi) odds-ratio:"
   ]
  },
  {
   "cell_type": "code",
   "execution_count": 15,
   "id": "a360c38d",
   "metadata": {},
   "outputs": [
    {
     "data": {
      "text/html": [
       "0.0719807180999055"
      ],
      "text/latex": [
       "0.0719807180999055"
      ],
      "text/markdown": [
       "0.0719807180999055"
      ],
      "text/plain": [
       "[1] 0.07198072"
      ]
     },
     "metadata": {},
     "output_type": "display_data"
    }
   ],
   "source": [
    "exp(-2.631357)"
   ]
  },
  {
   "cell_type": "markdown",
   "id": "22c7cf1a",
   "metadata": {},
   "source": [
    "To zmamená, že muži mají skoro 14x menší šanci (ne pravděpodobnost!) na přežití, než ženy.\n",
    "\n",
    "Toto je aproximace OR za situace, kdy jsou hodnoty všech ostatních proměnných v modelu 0: https://stats.stackexchange.com/questions/35013/exponentiated-logistic-regression-coefficient-different-than-odds-ratio\n",
    "\n",
    "V našem případě to znamená, že je to pro případ věk  = 0 a třída = 1 a konstanta = 0.\n",
    "\n",
    "Přesnější odhad (18 let, 2 třída):"
   ]
  },
  {
   "cell_type": "code",
   "execution_count": 16,
   "id": "fdc4bb42",
   "metadata": {},
   "outputs": [
    {
     "data": {
      "text/html": [
       "0.0719807180999056"
      ],
      "text/latex": [
       "0.0719807180999056"
      ],
      "text/markdown": [
       "0.0719807180999056"
      ],
      "text/plain": [
       "[1] 0.07198072"
      ]
     },
     "metadata": {},
     "output_type": "display_data"
    }
   ],
   "source": [
    "odds1 = exp(3.759662 - 0.039177*18 -1.291962 * 1 - 2.631357*1)\n",
    "odds2 = exp(3.759662 - 0.039177*18 -1.291962 * 1)\n",
    "OR = odds1/odds2\n",
    "OR"
   ]
  },
  {
   "cell_type": "markdown",
   "id": "e947a028",
   "metadata": {},
   "source": [
    "Nyní predikce pravděpodobnosti přežití mužu a žen:"
   ]
  },
  {
   "cell_type": "code",
   "execution_count": 17,
   "id": "54367f15",
   "metadata": {},
   "outputs": [
    {
     "data": {
      "text/html": [
       "0.295495106652864"
      ],
      "text/latex": [
       "0.295495106652864"
      ],
      "text/markdown": [
       "0.295495106652864"
      ],
      "text/plain": [
       "[1] 0.2954951"
      ]
     },
     "metadata": {},
     "output_type": "display_data"
    },
    {
     "data": {
      "text/html": [
       "0.853524241435479"
      ],
      "text/latex": [
       "0.853524241435479"
      ],
      "text/markdown": [
       "0.853524241435479"
      ],
      "text/plain": [
       "[1] 0.8535242"
      ]
     },
     "metadata": {},
     "output_type": "display_data"
    }
   ],
   "source": [
    "prob1 <- odds1 / (1 + odds1)\n",
    "prob2 <- odds2 / (1 + odds2)\n",
    "prob1\n",
    "prob2"
   ]
  },
  {
   "cell_type": "markdown",
   "id": "e39e2b1a",
   "metadata": {},
   "source": [
    "Vidíme, že rozdíly mezi ženami a muži z hlediska pravděpodobnosti přežití nejsou opticky tak velké, jako při porovnání šancí.\n",
    "\n",
    "Ale snadno můžeme ukázat, že podíl šancí (OR) bude přibližně stejný, jako jsme odhadli výše:"
   ]
  },
  {
   "cell_type": "code",
   "execution_count": 18,
   "id": "5db91dbd",
   "metadata": {},
   "outputs": [
    {
     "data": {
      "text/html": [
       "0.408450704225352"
      ],
      "text/latex": [
       "0.408450704225352"
      ],
      "text/markdown": [
       "0.408450704225352"
      ],
      "text/plain": [
       "[1] 0.4084507"
      ]
     },
     "metadata": {},
     "output_type": "display_data"
    },
    {
     "data": {
      "text/html": [
       "5.66666666666667"
      ],
      "text/latex": [
       "5.66666666666667"
      ],
      "text/markdown": [
       "5.66666666666667"
      ],
      "text/plain": [
       "[1] 5.666667"
      ]
     },
     "metadata": {},
     "output_type": "display_data"
    }
   ],
   "source": [
    "0.29/0.71\n",
    "0.85/0.15"
   ]
  },
  {
   "cell_type": "markdown",
   "id": "fa112f64",
   "metadata": {},
   "source": [
    "A nyní opět podíl šancí:"
   ]
  },
  {
   "cell_type": "code",
   "execution_count": 19,
   "id": "1639aa28",
   "metadata": {},
   "outputs": [
    {
     "data": {
      "text/html": [
       "13.8735632183908"
      ],
      "text/latex": [
       "13.8735632183908"
      ],
      "text/markdown": [
       "13.8735632183908"
      ],
      "text/plain": [
       "[1] 13.87356"
      ]
     },
     "metadata": {},
     "output_type": "display_data"
    }
   ],
   "source": [
    "5.66666666666667/0.408450704225352"
   ]
  },
  {
   "cell_type": "markdown",
   "id": "1fc97d93",
   "metadata": {},
   "source": [
    "Opět vidíme, že muži mají témměř 14x menší šanci na přežití, než ženy.\n",
    "\n",
    "Nyní si nakreslíme vizualizaci predikované pravděpodobnosti pro muže a ženy v různém věku."
   ]
  },
  {
   "cell_type": "code",
   "execution_count": 20,
   "id": "c58137ca",
   "metadata": {},
   "outputs": [
    {
     "data": {
      "image/png": "[encoded data removed]",
      "text/plain": [
       "plot without title"
      ]
     },
     "metadata": {
      "image/png": {
       "height": 420,
       "width": 420
      }
     },
     "output_type": "display_data"
    }
   ],
   "source": [
    "odds3 = exp(3.759662 - 0.039177*c(1:60) -1.291962 * 1 - 2.631357)\n",
    "prob3 <- odds3 / (1 + odds3)\n",
    "\n",
    "odds4 = exp(3.759662 - 0.039177*c(1:60) -1.291962 * 1)\n",
    "prob4 <- odds4 / (1 + odds4)\n",
    "\n",
    "plot (c(1:60),prob3,  ylab = \"Pravděpodobnost přežití\", xlab = \"Věk\", type = \"l\", ylim = c(0,1), col = \"blue\")\n",
    "lines(c(1:60),prob4, col = \"red\")\n"
   ]
  },
  {
   "cell_type": "markdown",
   "id": "3ab53454",
   "metadata": {},
   "source": [
    "# Kvalita modelu.\n",
    "Jak dobře náš model predikuje přežití?\n",
    "\n",
    "Různé míry pseudo R-square nedávají intuitivní odpověď."
   ]
  },
  {
   "cell_type": "code",
   "execution_count": 21,
   "id": "2e762930",
   "metadata": {},
   "outputs": [
    {
     "data": {
      "text/html": [
       "<dl>\n",
       "\t<dt>$Models</dt>\n",
       "\t\t<dd><table class=\"dataframe\">\n",
       "<caption>A matrix: 2 × 1 of type chr</caption>\n",
       "<thead>\n",
       "\t<tr><th></th><th scope=col></th></tr>\n",
       "</thead>\n",
       "<tbody>\n",
       "\t<tr><th scope=row>Model:</th><td>glm, survived ~ age + pclass, binomial, data</td></tr>\n",
       "\t<tr><th scope=row>Null:</th><td>glm, survived ~ 1, binomial, data           </td></tr>\n",
       "</tbody>\n",
       "</table>\n",
       "</dd>\n",
       "\t<dt>$Pseudo.R.squared.for.model.vs.null</dt>\n",
       "\t\t<dd><table class=\"dataframe\">\n",
       "<caption>A matrix: 3 × 1 of type dbl</caption>\n",
       "<thead>\n",
       "\t<tr><th></th><th scope=col>Pseudo.R.squared</th></tr>\n",
       "</thead>\n",
       "<tbody>\n",
       "\t<tr><th scope=row>McFadden</th><td>0.112772</td></tr>\n",
       "\t<tr><th scope=row>Cox and Snell (ML)</th><td>0.141856</td></tr>\n",
       "\t<tr><th scope=row>Nagelkerke (Cragg and Uhler)</th><td>0.191063</td></tr>\n",
       "</tbody>\n",
       "</table>\n",
       "</dd>\n",
       "\t<dt>$Likelihood.ratio.test</dt>\n",
       "\t\t<dd><table class=\"dataframe\">\n",
       "<caption>A matrix: 1 × 4 of type dbl</caption>\n",
       "<thead>\n",
       "\t<tr><th></th><th scope=col>Df.diff</th><th scope=col>LogLik.diff</th><th scope=col>Chisq</th><th scope=col>p.value</th></tr>\n",
       "</thead>\n",
       "<tbody>\n",
       "\t<tr><th scope=row></th><td>-3</td><td>-57.828</td><td>115.66</td><td>6.651e-25</td></tr>\n",
       "</tbody>\n",
       "</table>\n",
       "</dd>\n",
       "\t<dt>$Number.of.observations</dt>\n",
       "\t\t<dd><table class=\"dataframe\">\n",
       "<caption>A matrix: 2 × 1 of type int</caption>\n",
       "<thead>\n",
       "\t<tr><th></th><th scope=col></th></tr>\n",
       "</thead>\n",
       "<tbody>\n",
       "\t<tr><th scope=row>Model:</th><td>756</td></tr>\n",
       "\t<tr><th scope=row>Null:</th><td>756</td></tr>\n",
       "</tbody>\n",
       "</table>\n",
       "</dd>\n",
       "\t<dt>$Messages</dt>\n",
       "\t\t<dd>'Note: For models fit with REML, these statistics are based on refitting with ML'</dd>\n",
       "\t<dt>$Warnings</dt>\n",
       "\t\t<dd>'None'</dd>\n",
       "</dl>\n"
      ],
      "text/latex": [
       "\\begin{description}\n",
       "\\item[\\$Models] A matrix: 2 × 1 of type chr\n",
       "\\begin{tabular}{r|l}\n",
       "  & \\\\\n",
       "\\hline\n",
       "\tModel: & glm, survived \\textasciitilde{} age + pclass, binomial, data\\\\\n",
       "\tNull: & glm, survived \\textasciitilde{} 1, binomial, data           \\\\\n",
       "\\end{tabular}\n",
       "\n",
       "\\item[\\$Pseudo.R.squared.for.model.vs.null] A matrix: 3 × 1 of type dbl\n",
       "\\begin{tabular}{r|l}\n",
       "  & Pseudo.R.squared\\\\\n",
       "\\hline\n",
       "\tMcFadden & 0.112772\\\\\n",
       "\tCox and Snell (ML) & 0.141856\\\\\n",
       "\tNagelkerke (Cragg and Uhler) & 0.191063\\\\\n",
       "\\end{tabular}\n",
       "\n",
       "\\item[\\$Likelihood.ratio.test] A matrix: 1 × 4 of type dbl\n",
       "\\begin{tabular}{r|llll}\n",
       "  & Df.diff & LogLik.diff & Chisq & p.value\\\\\n",
       "\\hline\n",
       "\t & -3 & -57.828 & 115.66 & 6.651e-25\\\\\n",
       "\\end{tabular}\n",
       "\n",
       "\\item[\\$Number.of.observations] A matrix: 2 × 1 of type int\n",
       "\\begin{tabular}{r|l}\n",
       "  & \\\\\n",
       "\\hline\n",
       "\tModel: & 756\\\\\n",
       "\tNull: & 756\\\\\n",
       "\\end{tabular}\n",
       "\n",
       "\\item[\\$Messages] 'Note: For models fit with REML, these statistics are based on refitting with ML'\n",
       "\\item[\\$Warnings] 'None'\n",
       "\\end{description}\n"
      ],
      "text/markdown": [
       "$Models\n",
       ":   \n",
       "A matrix: 2 × 1 of type chr\n",
       "\n",
       "| <!--/--> | <!----> |\n",
       "|---|---|\n",
       "| Model: | glm, survived ~ age + pclass, binomial, data |\n",
       "| Null: | glm, survived ~ 1, binomial, data            |\n",
       "\n",
       "\n",
       "$Pseudo.R.squared.for.model.vs.null\n",
       ":   \n",
       "A matrix: 3 × 1 of type dbl\n",
       "\n",
       "| <!--/--> | Pseudo.R.squared |\n",
       "|---|---|\n",
       "| McFadden | 0.112772 |\n",
       "| Cox and Snell (ML) | 0.141856 |\n",
       "| Nagelkerke (Cragg and Uhler) | 0.191063 |\n",
       "\n",
       "\n",
       "$Likelihood.ratio.test\n",
       ":   \n",
       "A matrix: 1 × 4 of type dbl\n",
       "\n",
       "| <!--/--> | Df.diff | LogLik.diff | Chisq | p.value |\n",
       "|---|---|---|---|---|\n",
       "| <!----> | -3 | -57.828 | 115.66 | 6.651e-25 |\n",
       "\n",
       "\n",
       "$Number.of.observations\n",
       ":   \n",
       "A matrix: 2 × 1 of type int\n",
       "\n",
       "| <!--/--> | <!----> |\n",
       "|---|---|\n",
       "| Model: | 756 |\n",
       "| Null: | 756 |\n",
       "\n",
       "\n",
       "$Messages\n",
       ":   'Note: For models fit with REML, these statistics are based on refitting with ML'\n",
       "$Warnings\n",
       ":   'None'\n",
       "\n",
       "\n"
      ],
      "text/plain": [
       "$Models\n",
       "                                                     \n",
       "Model: \"glm, survived ~ age + pclass, binomial, data\"\n",
       "Null:  \"glm, survived ~ 1, binomial, data\"           \n",
       "\n",
       "$Pseudo.R.squared.for.model.vs.null\n",
       "                             Pseudo.R.squared\n",
       "McFadden                             0.112772\n",
       "Cox and Snell (ML)                   0.141856\n",
       "Nagelkerke (Cragg and Uhler)         0.191063\n",
       "\n",
       "$Likelihood.ratio.test\n",
       " Df.diff LogLik.diff  Chisq   p.value\n",
       "      -3     -57.828 115.66 6.651e-25\n",
       "\n",
       "$Number.of.observations\n",
       "          \n",
       "Model: 756\n",
       "Null:  756\n",
       "\n",
       "$Messages\n",
       "[1] \"Note: For models fit with REML, these statistics are based on refitting with ML\"\n",
       "\n",
       "$Warnings\n",
       "[1] \"None\"\n"
      ]
     },
     "metadata": {},
     "output_type": "display_data"
    }
   ],
   "source": [
    "nagelkerke(model1)"
   ]
  },
  {
   "cell_type": "markdown",
   "id": "4cd2652d",
   "metadata": {},
   "source": [
    "## Hodnocení modelu založená na porovnání predikovaných a pozorovaných hodnot.\n",
    "\n",
    "Můžeme si nechat modelem predikovat pravděpodobnost, že lidé přežijí.\n",
    "Pro kontrolu se podívejme na distribuci hustoty pravděpodobnosti přežití. Vidíme, že model u většiny predikuje menší pravděpdobnost než O.5. "
   ]
  },
  {
   "cell_type": "code",
   "execution_count": 22,
   "id": "e154f648",
   "metadata": {},
   "outputs": [
    {
     "data": {
      "image/png": "[encoded data removed]",
      "text/plain": [
       "Plot with title “density.default(x = predicted.values)”"
      ]
     },
     "metadata": {
      "image/png": {
       "height": 420,
       "width": 420
      }
     },
     "output_type": "display_data"
    }
   ],
   "source": [
    "predicted.values <- predict(model1, data, type = \"response\") # predikce pravděpodobnosti\n",
    "plot(density(predicted.values))"
   ]
  },
  {
   "cell_type": "markdown",
   "id": "791974eb",
   "metadata": {},
   "source": [
    "Vytvoříme novou proměnnou, která bude obsahovat naši predikci přežití. Jako práh přežití stanovíme p = 0.5. Pokud bychom tento práh měnili, tak budeme měnit hodnoty specificity a sensitivity. Na tom je založena ROC curve, která umožňuje optimalizovat predikční model pro specifický účel. "
   ]
  },
  {
   "cell_type": "code",
   "execution_count": 23,
   "id": "951e7b85",
   "metadata": {},
   "outputs": [],
   "source": [
    "data$survived_pred <- as.numeric (predicted.values > 0.5)"
   ]
  },
  {
   "cell_type": "markdown",
   "id": "be7bfdbf",
   "metadata": {},
   "source": [
    "Nyní se podíváme, jak je dobrá naše predikce. Podíváme se na tzv. confusion matrix."
   ]
  },
  {
   "cell_type": "code",
   "execution_count": 24,
   "id": "24b6246f",
   "metadata": {},
   "outputs": [
    {
     "data": {
      "text/plain": [
       "      predicted\n",
       "actual         0         1\n",
       "     0 0.4629630 0.1230159\n",
       "     1 0.2050265 0.2089947"
      ]
     },
     "metadata": {},
     "output_type": "display_data"
    }
   ],
   "source": [
    "prop.table( table(actual = data$survived, predicted = data$survived_pred))\n",
    "# true positive = 20.9% \n",
    "# true negative = 46.3% \n",
    "# false negative = 20.5%\n",
    "# false positive = 12.3%\n"
   ]
  },
  {
   "cell_type": "markdown",
   "id": "4f14c8f9",
   "metadata": {},
   "source": [
    "Sensitivita = TP / (TP + FN) = 20.9/(20.5+20.9) = 50.4% # true positive rate; kolik pos. správně klasifikuje\n",
    "\n",
    "Specificita = TN / (TN + FP) = 46.3/(46.3+12.3) = 79.0% # true negative rate; kolik neg. správně klasifikuje"
   ]
  },
  {
   "cell_type": "code",
   "execution_count": 25,
   "id": "61c56520",
   "metadata": {},
   "outputs": [
    {
     "data": {
      "text/plain": [
       "Confusion Matrix and Statistics\n",
       "\n",
       "          Reference\n",
       "Prediction   0   1\n",
       "         0 350 155\n",
       "         1  93 158\n",
       "                                          \n",
       "               Accuracy : 0.672           \n",
       "                 95% CI : (0.6372, 0.7054)\n",
       "    No Information Rate : 0.586           \n",
       "    P-Value [Acc > NIR] : 7.105e-07       \n",
       "                                          \n",
       "                  Kappa : 0.3037          \n",
       "                                          \n",
       " Mcnemar's Test P-Value : 0.0001073       \n",
       "                                          \n",
       "            Sensitivity : 0.5048          \n",
       "            Specificity : 0.7901          \n",
       "         Pos Pred Value : 0.6295          \n",
       "         Neg Pred Value : 0.6931          \n",
       "             Prevalence : 0.4140          \n",
       "         Detection Rate : 0.2090          \n",
       "   Detection Prevalence : 0.3320          \n",
       "      Balanced Accuracy : 0.6474          \n",
       "                                          \n",
       "       'Positive' Class : 1               \n",
       "                                          "
      ]
     },
     "metadata": {},
     "output_type": "display_data"
    }
   ],
   "source": [
    "# odhad specificity a sensitivity s funkcemi z knihovny \"caret\"\n",
    "conf_matrix <- caret::confusionMatrix (data = as.factor(data$survived_pred), \n",
    "                                       reference = as.factor(data$survived), positive = \"1\")\n",
    "# POZOR, JE TREBA DEFINOVAT HODNOTU 1 JAKO POZITIVNI, JINAK SE AUTOMATICKY KODUJE PRVNI HODNOTA FAKTORU (U NAS 0) JAKO POZITIVNI \n",
    "# HODNOTA; VE VYSLEDKU BY NAM TO PROHODILO SPECIFICITU A SENSITIVITU\n",
    "conf_matrix # stejny vysledek pro specificitu a sensitivitu jako vyse\n",
    "# cteni o sensitivite a specificite a ROC curve\n",
    "# https://statinfer.com/203-4-2-calculating-sensitivity-and-specificity-in-r/\n",
    "# https://medium.com/@yuangupitt/confusion-matrix-and-roc-auc-1ab8f456a109"
   ]
  },
  {
   "cell_type": "markdown",
   "id": "d6e462ac",
   "metadata": {},
   "source": [
    "## Domácí úkol:\n",
    "Tento úkol zadávám pozdě + někteří jste říkali, že je to pro vás těžké, takže úkol je nepovinný. Pokud můžete, zkuste mu věnovat chvíli času. Na začátku přednášky se na úkol podíváme a zkusíme odstranit problémy, které jste při řešení úkolu měli.\n",
    "\n",
    "1. Jak se zlepší kvalita modelu, když do něj zahrneme pohlaví?\n",
    "2. Vizualizujte pravděpodobnost pro různě staré ženy v 1., 2. a 3. třídě (na základě predikce modelu)."
   ]
  },
  {
   "cell_type": "code",
   "execution_count": 31,
   "id": "eb657367",
   "metadata": {},
   "outputs": [
    {
     "data": {
      "text/plain": [
       "Confusion Matrix and Statistics\n",
       "\n",
       "          Reference\n",
       "Prediction   0   1\n",
       "         0 372  91\n",
       "         1  71 222\n",
       "                                          \n",
       "               Accuracy : 0.7857          \n",
       "                 95% CI : (0.7547, 0.8145)\n",
       "    No Information Rate : 0.586           \n",
       "    P-Value [Acc > NIR] : <2e-16          \n",
       "                                          \n",
       "                  Kappa : 0.5542          \n",
       "                                          \n",
       " Mcnemar's Test P-Value : 0.1355          \n",
       "                                          \n",
       "            Sensitivity : 0.7093          \n",
       "            Specificity : 0.8397          \n",
       "         Pos Pred Value : 0.7577          \n",
       "         Neg Pred Value : 0.8035          \n",
       "             Prevalence : 0.4140          \n",
       "         Detection Rate : 0.2937          \n",
       "   Detection Prevalence : 0.3876          \n",
       "      Balanced Accuracy : 0.7745          \n",
       "                                          \n",
       "       'Positive' Class : 1               \n",
       "                                          "
      ]
     },
     "metadata": {},
     "output_type": "display_data"
    }
   ],
   "source": [
    "predicted.values2 <- predict(model2, data, type = \"response\") # predikce pravděpodobnosti\n",
    "data$survived_pred2 <- as.numeric (predicted.values2 > 0.5)\n",
    "conf_matrix <- caret::confusionMatrix (data = as.factor(data$survived_pred2), \n",
    "                                       reference = as.factor(data$survived), positive = \"1\")\n",
    "\n",
    "conf_matrix "
   ]
  },
  {
   "cell_type": "code",
   "execution_count": 34,
   "id": "24fb7d7b",
   "metadata": {},
   "outputs": [
    {
     "data": {
      "image/png": "[encoded data removed]",
      "text/plain": [
       "plot without title"
      ]
     },
     "metadata": {
      "image/png": {
       "height": 420,
       "width": 420
      }
     },
     "output_type": "display_data"
    }
   ],
   "source": [
    "#             Estimate Std. Error z value Pr(>|z|)    \n",
    "#(Intercept)  3.759662   0.397567   9.457  < 2e-16 ***\n",
    "#age         -0.039177   0.007616  -5.144 2.69e-07 ***\n",
    "#pclass2nd   -1.291962   0.260076  -4.968 6.78e-07 ***\n",
    "#pclass3rd   -2.521419   0.276657  -9.114  < 2e-16 ***\n",
    "#sexmale     -2.631357   0.201505 -13.058  < 2e-16 ***\n",
    "\n",
    "odds_zena1 = exp(3.759662 - 0.039177*c(1:60))\n",
    "odds_zena2 = exp(3.759662 - 0.039177*c(1:60) -1.291962 * 1)\n",
    "odds_zena3 = exp(3.759662 - 0.039177*c(1:60) -2.521419 * 1)\n",
    "prob_zena1 <- odds_zena1 / (1 + odds_zena1)\n",
    "prob_zena2 <- odds_zena2 / (1 + odds_zena2)\n",
    "prob_zena3 <- odds_zena3 / (1 + odds_zena3)\n",
    "\n",
    "plot (c(1:60),prob_zena1,  ylab = \"Pravděpodobnost přežití\", xlab = \"Věk\", type = \"l\", ylim = c(0,1), col = \"green\")\n",
    "lines(c(1:60),prob_zena2, col = \"red\")\n",
    "lines(c(1:60),prob_zena3, col = \"blue\")"
   ]
  }
 ],
 "metadata": {
  "kernelspec": {
   "display_name": "R",
   "language": "R",
   "name": "ir"
  },
  "language_info": {
   "codemirror_mode": "r",
   "file_extension": ".r",
   "mimetype": "text/x-r-source",
   "name": "R",
   "pygments_lexer": "r",
   "version": "4.1.3"
  }
 },
 "nbformat": 4,
 "nbformat_minor": 5
}
